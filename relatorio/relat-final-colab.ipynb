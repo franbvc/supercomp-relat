{
  "cells": [
    {
      "attachments": {},
      "cell_type": "markdown",
      "metadata": {
        "id": "ahumGAMSKGzv"
      },
      "source": [
        "## Header to define `Movie` struct"
      ]
    },
    {
      "cell_type": "code",
      "execution_count": null,
      "metadata": {
        "colab": {
          "base_uri": "https://localhost:8080/"
        },
        "id": "oGH0zLTGKR-Q",
        "outputId": "96e3d39e-9351-4f49-cc7d-0bd2b414bbb6"
      },
      "outputs": [
        {
          "name": "stdout",
          "output_type": "stream",
          "text": [
            "Overwriting movie.h\n"
          ]
        }
      ],
      "source": [
        "%%writefile movie.h\n",
        "#ifndef MOVIE_H\n",
        "#define MOVIE_H\n",
        "\n",
        "struct Movie\n",
        "{\n",
        "    int id, duration, category, startTime, endTime;\n",
        "};\n",
        "\n",
        "#endif"
      ]
    },
    {
      "attachments": {},
      "cell_type": "markdown",
      "metadata": {
        "id": "VMgB45osJx4c"
      },
      "source": [
        "## Cuda utils with helper functions"
      ]
    },
    {
      "cell_type": "code",
      "execution_count": null,
      "metadata": {
        "colab": {
          "base_uri": "https://localhost:8080/"
        },
        "id": "sHWdfdh1J1Zg",
        "outputId": "ae7043b9-4fcc-4ae4-89a3-8ffbb2ffc4db"
      },
      "outputs": [
        {
          "name": "stdout",
          "output_type": "stream",
          "text": [
            "Overwriting cuda_utils.h\n"
          ]
        }
      ],
      "source": [
        "%%writefile cuda_utils.h\n",
        "#ifndef CUDA_UTILS_H\n",
        "#define CUDA_UTILS_H\n",
        "\n",
        "#include <thrust/device_vector.h>\n",
        "#include <vector>\n",
        "\n",
        "using namespace std;\n",
        "\n",
        "int fillDataVectors(vector<int> &catLimit, vector<int> &start, vector<int> &end, vector<int> &cat);\n",
        "thrust::device_vector<bool> convertToBinaryVec(int n, int size);\n",
        "\n",
        "#endif"
      ]
    },
    {
      "cell_type": "code",
      "execution_count": null,
      "metadata": {
        "colab": {
          "base_uri": "https://localhost:8080/"
        },
        "id": "RkuMjaLxJ8n7",
        "outputId": "a6102348-afe8-4239-ec2f-c9ed77a6ece0"
      },
      "outputs": [
        {
          "name": "stdout",
          "output_type": "stream",
          "text": [
            "Overwriting cuda_utils.cu\n"
          ]
        }
      ],
      "source": [
        "%%writefile cuda_utils.cu\n",
        "#include <algorithm>\n",
        "#include <thrust/device_vector.h>\n",
        "#include <iostream>\n",
        "#include \"cuda_utils.h\"\n",
        "#include \"movie.h\"\n",
        "\n",
        "using namespace std;\n",
        "\n",
        "int fillDataVectors(vector<int> &catLimit, vector<int> &start, vector<int> &end, vector<int> &cat)\n",
        "{\n",
        "    int totalMovies;\n",
        "    int totalCategories;\n",
        "\n",
        "    cin >> totalMovies >> totalCategories;\n",
        "\n",
        "    // Fill category limit vector\n",
        "    catLimit.reserve(totalCategories);\n",
        "    int categoryLimit;\n",
        "    for (int i = 0; i < totalCategories; i++)\n",
        "    {\n",
        "        cin >> categoryLimit;\n",
        "        catLimit.push_back(categoryLimit);\n",
        "    }\n",
        "\n",
        "    // Fill start, end and cat vectors\n",
        "    int startValue, endValue, catValue;\n",
        "    vector<Movie> movies;\n",
        "    int movieCount = 0;\n",
        "    for (int i = 0; i < totalMovies; i++)\n",
        "    {\n",
        "        cin >> startValue >> endValue >> catValue;\n",
        "        if (startValue >= endValue)\n",
        "            continue;\n",
        "\n",
        "        movies.push_back({i, endValue - startValue, catValue, startValue, endValue});\n",
        "        movieCount++;\n",
        "    }\n",
        "\n",
        "    sort(movies.begin(), movies.end(), [](const Movie &lhs, const Movie &rhs)\n",
        "         { return lhs.startTime < rhs.startTime; });\n",
        "\n",
        "    for (auto movie : movies)\n",
        "    {\n",
        "        start.push_back(movie.startTime);\n",
        "        end.push_back(movie.endTime);\n",
        "        cat.push_back(movie.category);\n",
        "    }\n",
        "\n",
        "    return movieCount;\n",
        "}\n",
        "\n",
        "thrust::device_vector<bool> convertToBinaryVec(int n, int size)\n",
        "{\n",
        "\n",
        "    thrust::device_vector<bool> binaryVec(size);\n",
        "    for (int i = 0; i < n; i++)\n",
        "    {\n",
        "        binaryVec[i] = n & (1 << i);\n",
        "    }\n",
        "    return binaryVec;\n",
        "}"
      ]
    },
    {
      "attachments": {},
      "cell_type": "markdown",
      "metadata": {
        "id": "PLX51tY5jce-"
      },
      "source": [
        "## Cuda code (busca exaustiva em GPU)"
      ]
    },
    {
      "cell_type": "code",
      "execution_count": null,
      "metadata": {
        "colab": {
          "base_uri": "https://localhost:8080/"
        },
        "id": "AaXzhVe5JftB",
        "outputId": "c96ee17a-9488-4056-dc37-dc65cbcab0e2"
      },
      "outputs": [
        {
          "name": "stdout",
          "output_type": "stream",
          "text": [
            "Overwriting main.cu\n"
          ]
        }
      ],
      "source": [
        "%%writefile main.cu\n",
        "\n",
        "#include <thrust/host_vector.h>\n",
        "#include <thrust/device_vector.h>\n",
        "#include <thrust/transform.h>\n",
        "#include <thrust/iterator/counting_iterator.h>\n",
        "#include <thrust/functional.h>\n",
        "#include <thrust/count.h>\n",
        "#include <iostream>\n",
        "#include <math.h>\n",
        "#include \"cuda_utils.h\"\n",
        "\n",
        "using namespace std;\n",
        "\n",
        "struct validate\n",
        "{\n",
        "    const int movieCount;\n",
        "    thrust::device_ptr<const int> catLimit;\n",
        "    thrust::device_ptr<const int> movieStart;\n",
        "    thrust::device_ptr<const int> movieEnd;\n",
        "    thrust::device_ptr<const int> movieCat;\n",
        "\n",
        "    validate(\n",
        "        const int movieCount_,\n",
        "        thrust::device_ptr<const int> catLimit_,\n",
        "        thrust::device_ptr<const int> movieStart_,\n",
        "        thrust::device_ptr<const int> movieEnd_,\n",
        "        thrust::device_ptr<const int> movieCat_)\n",
        "        : movieCount(movieCount_),\n",
        "          catLimit(catLimit_),\n",
        "          movieStart(movieStart_),\n",
        "          movieEnd(movieEnd_),\n",
        "          movieCat(movieCat_){};\n",
        "\n",
        "    __host__ __device__ int operator()(const int &bin)\n",
        "    {\n",
        "        int lastIndex = -1;\n",
        "        int result = 0;\n",
        "        int localCatArr[20] = {0};\n",
        "\n",
        "        for (int i = 0; i < movieCount; i++)\n",
        "        {\n",
        "            bool bit = (bin & (1 << i)) != 0;\n",
        "            if (!bit)\n",
        "                continue;\n",
        "\n",
        "            if (lastIndex == -1)\n",
        "            {\n",
        "                lastIndex = i;\n",
        "                result++;\n",
        "                continue;\n",
        "            }\n",
        "\n",
        "            if (localCatArr[movieCat[i] - 1] == catLimit[movieCat[i] - 1])\n",
        "            {\n",
        "                return 0;\n",
        "            }\n",
        "\n",
        "            if (movieEnd[lastIndex] > movieStart[i])\n",
        "            {\n",
        "                return 0;\n",
        "            }\n",
        "\n",
        "            localCatArr[movieCat[i] - 1]++;\n",
        "            lastIndex = i;\n",
        "            result++;\n",
        "        }\n",
        "\n",
        "        return result;\n",
        "    }\n",
        "};\n",
        "\n",
        "int main()\n",
        "{\n",
        "    vector<int> catLimit;\n",
        "    vector<int> movieStart;\n",
        "    vector<int> movieEnd;\n",
        "    vector<int> movieCat;\n",
        "\n",
        "    int movieCount = fillDataVectors(catLimit, movieStart, movieEnd, movieCat);\n",
        "    thrust::device_vector<int> devCatLimit(catLimit);\n",
        "    thrust::device_vector<int> devStart(movieStart);\n",
        "    thrust::device_vector<int> devEnd(movieEnd);\n",
        "    thrust::device_vector<int> devCat(movieCat);\n",
        "\n",
        "    thrust::counting_iterator<int> startBin(1);\n",
        "    thrust::counting_iterator<int> endBin = startBin + (int)pow(2, movieCount) - 1;\n",
        "\n",
        "    validate validateFunctor(movieCount, devCatLimit.data(), devStart.data(), devEnd.data(), devCat.data());\n",
        "\n",
        "    thrust::device_vector<int> results(endBin - startBin);\n",
        "    thrust::transform(startBin, endBin, results.begin(), validateFunctor);\n",
        "    \n",
        "\n",
        "    int maxMovies = thrust::reduce(results.begin(), results.end(), 0, thrust::maximum<int>());\n",
        "\n",
        "    cout << (int)pow(2, movieCount) - 1 << \" \" <<maxMovies;\n",
        "\n",
        "    return 0;\n",
        "}\n",
        "    "
      ]
    },
    {
      "attachments": {},
      "cell_type": "markdown",
      "metadata": {
        "id": "objlhy72jleU"
      },
      "source": [
        "## Compila o código cuda"
      ]
    },
    {
      "cell_type": "code",
      "execution_count": null,
      "metadata": {
        "id": "Eo5ZLK1bYD5n"
      },
      "outputs": [],
      "source": [
        "!nvcc -Wno-deprecated-gpu-targets -arch=sm_37 -std=c++14 -o main main.cu cuda_utils.cu"
      ]
    },
    {
      "attachments": {},
      "cell_type": "markdown",
      "metadata": {
        "id": "u8ve9luYjqtb"
      },
      "source": [
        "## Utils e helper para código da busca exaustiva OMP"
      ]
    },
    {
      "cell_type": "code",
      "execution_count": null,
      "metadata": {
        "colab": {
          "base_uri": "https://localhost:8080/"
        },
        "id": "C_3NLYzMiI_-",
        "outputId": "9514c8f7-8023-4728-8c2f-ef9d7361491f"
      },
      "outputs": [
        {
          "name": "stdout",
          "output_type": "stream",
          "text": [
            "Overwriting utils.h\n"
          ]
        }
      ],
      "source": [
        "%%writefile utils.h\n",
        "#ifndef UTILS_H\n",
        "#define UTILS_H\n",
        "\n",
        "#include <tuple>\n",
        "#include <vector>\n",
        "#include \"movie.h\"\n",
        "\n",
        "using namespace std;\n",
        "\n",
        "tuple<int, int> getInputParameters();\n",
        "vector<int> setCategoryVector(int totalCategories);\n",
        "vector<Movie> setMovieVector(int totalMovies);\n",
        "\n",
        "#endif"
      ]
    },
    {
      "cell_type": "code",
      "execution_count": null,
      "metadata": {
        "colab": {
          "base_uri": "https://localhost:8080/"
        },
        "id": "oN7Nl8Ohi0Tp",
        "outputId": "6891c940-382c-45fa-c84e-4ec60a54cb4f"
      },
      "outputs": [
        {
          "name": "stdout",
          "output_type": "stream",
          "text": [
            "Overwriting utils.cpp\n"
          ]
        }
      ],
      "source": [
        "%%writefile utils.cpp\n",
        "#include <iostream>\n",
        "#include \"utils.h\"\n",
        "\n",
        "using namespace std;\n",
        "\n",
        "tuple<int, int> getInputParameters()\n",
        "{\n",
        "    int totalMovies;\n",
        "    int totalCategories;\n",
        "\n",
        "    cin >> totalMovies >> totalCategories;\n",
        "    //cout << totalMovies << \" \" << totalCategories << endl;\n",
        "\n",
        "    return make_tuple(totalMovies, totalCategories);\n",
        "}\n",
        "\n",
        "vector<int> setCategoryVector(int totalCategories)\n",
        "{\n",
        "    vector<int> categoryVector;\n",
        "    categoryVector.reserve(totalCategories);\n",
        "\n",
        "    int categoryLimit;\n",
        "    for (int i = 0; i < totalCategories; i++)\n",
        "    {\n",
        "        cin >> categoryLimit;\n",
        "        //cout << \"cat \" << i << \"= \" << categoryLimit << endl;\n",
        "        categoryVector.push_back(categoryLimit);\n",
        "    }\n",
        "\n",
        "    return categoryVector;\n",
        "}\n",
        "\n",
        "vector<Movie> setMovieVector(int totalMovies)\n",
        "{\n",
        "    vector<Movie> movieVector;\n",
        "    movieVector.reserve(totalMovies);\n",
        "\n",
        "    int id, duration, category, startTime, endTime;\n",
        "\n",
        "    int count = 0;\n",
        "    for (int i = 0; i < totalMovies; i++)\n",
        "    {\n",
        "        cin >> startTime >> endTime >> category;\n",
        "        //cout << \"movie \" << i << \"->\" << startTime << \" \" << endTime << \" \" << category << endl;\n",
        "        id = count;\n",
        "        duration = endTime - startTime;\n",
        "\n",
        "        if (duration <= 0)\n",
        "            continue;\n",
        "\n",
        "        movieVector.push_back({id, duration, category, startTime, endTime});\n",
        "    }\n",
        "    return movieVector;\n",
        "}"
      ]
    },
    {
      "attachments": {},
      "cell_type": "markdown",
      "metadata": {
        "id": "hClcU-Uyj1Vu"
      },
      "source": [
        "## Código da busca exaustiva OMP para comparação com GPU"
      ]
    },
    {
      "cell_type": "code",
      "execution_count": null,
      "metadata": {
        "colab": {
          "base_uri": "https://localhost:8080/"
        },
        "id": "OFRfiy4y0krC",
        "outputId": "b0db3ae9-b5de-4e3b-b8d0-69cbae61d2fc"
      },
      "outputs": [
        {
          "name": "stdout",
          "output_type": "stream",
          "text": [
            "Overwriting exhaustive_omp.cpp\n"
          ]
        }
      ],
      "source": [
        "%%writefile exhaustive_omp.cpp\n",
        "\n",
        "#include <algorithm>\n",
        "#include <iostream>\n",
        "#include <math.h>\n",
        "#include <omp.h>\n",
        "#include \"movie.h\"\n",
        "#include \"utils.h\"\n",
        "\n",
        "using namespace std;\n",
        "\n",
        "int validateInput(int combinationCode, vector<Movie> movies, vector<int> categoryLimit, int movieCount);\n",
        "\n",
        "int main()\n",
        "{\n",
        "    // Limita número de threads para 2, possui colab só fornece 2 cores.\n",
        "    // Isso tenta otimizar o código para o colab\n",
        "    omp_set_num_threads(2);\n",
        " \n",
        "    tuple<int, int> output = getInputParameters();\n",
        "    int totalMovies = get<0>(output);\n",
        "    int totalCategories = get<1>(output);\n",
        " \n",
        "    vector<int> categoryLimit = setCategoryVector(totalCategories);\n",
        "    vector<Movie> movies = setMovieVector(totalMovies);\n",
        "    int movieCount = movies.size();\n",
        "\n",
        "    // Define last binary for movie combinations\n",
        "    int maxBin = (int)pow(2, movieCount) - 1;\n",
        "\n",
        "    // sort movies by increasing end time\n",
        "    sort(movies.begin(), movies.end(), [](Movie &i, Movie &j)\n",
        "         { return i.endTime < j.endTime; });\n",
        "\n",
        "    int maxMovies = 0;\n",
        "\n",
        "#pragma omp parallel for\n",
        "    for (int i = 1; i <= maxBin; i++)\n",
        "    {\n",
        "        if (__builtin_popcount(i) > 24)\n",
        "            continue;\n",
        "\n",
        "        int combinationMovies = validateInput(i, movies, categoryLimit, movieCount);\n",
        "\n",
        "#pragma omp critical\n",
        "        {\n",
        "            if (combinationMovies > maxMovies)\n",
        "                maxMovies = combinationMovies;\n",
        "        }\n",
        "    }\n",
        "\n",
        "    cout << maxBin << \" \" << maxMovies;\n",
        "\n",
        "    return 0;\n",
        "}\n",
        "\n",
        "int validateInput(int combinationCode, vector<Movie> dataVec, vector<int> catLimit, int movieCount)\n",
        "{\n",
        "    int lastIndex = -1;\n",
        "    int result = 0;\n",
        "\n",
        "    for (int i = 0; i < movieCount; i++)\n",
        "    {\n",
        "        bool bit = (combinationCode & (1 << i)) != 0;\n",
        "        if (!bit)\n",
        "            continue;\n",
        "\n",
        "        if (lastIndex == -1)\n",
        "        {\n",
        "            lastIndex = i;\n",
        "            result++;\n",
        "            continue;\n",
        "        }\n",
        "\n",
        "        if (catLimit[dataVec[i].category - 1] == 0)\n",
        "            return 0;\n",
        "        if (dataVec[lastIndex].endTime > dataVec[i].startTime)\n",
        "            return 0;\n",
        "\n",
        "        catLimit[dataVec[i].category - 1]--;\n",
        "        lastIndex = i;\n",
        "        result++;\n",
        "    }\n",
        "\n",
        "    return result;\n",
        "}"
      ]
    },
    {
      "attachments": {},
      "cell_type": "markdown",
      "metadata": {
        "id": "nZKKmHxPjVpb"
      },
      "source": [
        "## Compila código da busca exaustiva OMP ("
      ]
    },
    {
      "cell_type": "code",
      "execution_count": null,
      "metadata": {
        "id": "9fxKzF5njBeH"
      },
      "outputs": [],
      "source": [
        "!g++ -g -Wall -fopenmp -o exhaustive_omp ./exhaustive_omp.cpp ./utils.cpp"
      ]
    },
    {
      "attachments": {},
      "cell_type": "markdown",
      "metadata": {
        "id": "N3Wq0t0Ll0fx"
      },
      "source": [
        "## Gera inputs para teste, localmente, usando script de python"
      ]
    },
    {
      "cell_type": "code",
      "execution_count": null,
      "metadata": {
        "id": "6X_4vTrylz9G"
      },
      "outputs": [],
      "source": [
        "import random\n",
        "import datetime\n",
        "\n",
        "def generate_tests(n, m):\n",
        "    seed = datetime.datetime.now().timestamp()\n",
        "    generator = random.Random(seed)\n",
        "\n",
        "    distribution_dif = lambda: random.normalvariate(3, 1.0)\n",
        "\n",
        "    cat_limit = lambda: random.randint(1, 10)\n",
        "    distribution_hr = lambda: random.randint(0, 23)\n",
        "    distribution_cat = lambda: random.randint(1, m)\n",
        "\n",
        "    cat_limit_list = []\n",
        "    for i in range(m):\n",
        "        cat_limit_list.append(cat_limit())\n",
        "\n",
        "    movie_list = []\n",
        "    for i in range(n):\n",
        "        hora_inicio = distribution_hr()\n",
        "        dif_media = distribution_dif()\n",
        "        hora_fim = (hora_inicio + round(dif_media)) % 24\n",
        "        categoria = distribution_cat()\n",
        "        movie_list.append((hora_inicio, hora_fim, categoria))\n",
        "\n",
        "    return cat_limit_list, movie_list"
      ]
    },
    {
      "cell_type": "code",
      "execution_count": null,
      "metadata": {
        "colab": {
          "base_uri": "https://localhost:8080/",
          "height": 53
        },
        "id": "N3bLIbf0q7j7",
        "outputId": "670c745d-e7c2-43e1-ff24-a134a394e415"
      },
      "outputs": [
        {
          "name": "stdout",
          "output_type": "stream",
          "text": [
            "[(13, 16, 1), (4, 7, 2), (4, 5, 1), (20, 1, 1), (7, 11, 2)]\n"
          ]
        },
        {
          "data": {
            "application/vnd.google.colaboratory.intrinsic+json": {
              "type": "string"
            },
            "text/plain": [
              "'13 16 1'"
            ]
          },
          "execution_count": 52,
          "metadata": {},
          "output_type": "execute_result"
        }
      ],
      "source": [
        "test = generate_tests(5, 2)\n",
        "a = lambda x: str(x[0]) + \" \" + str(x[1]) + \" \" + str(x[2])\n",
        "\n",
        "print(test[1])\n",
        "a(test[1][0])"
      ]
    },
    {
      "cell_type": "code",
      "execution_count": null,
      "metadata": {
        "colab": {
          "base_uri": "https://localhost:8080/",
          "height": 36
        },
        "id": "0RmYHwJdoSIy",
        "outputId": "069fd83e-f3ce-44d2-8779-9edafe244e12"
      },
      "outputs": [
        {
          "data": {
            "application/vnd.google.colaboratory.intrinsic+json": {
              "type": "string"
            },
            "text/plain": [
              "'5 2 3 3 18 23 1 2 7 1 22 1 1 20 0 1 10 12 2'"
            ]
          },
          "execution_count": 53,
          "metadata": {},
          "output_type": "execute_result"
        }
      ],
      "source": [
        "def parse_input(cat_limit_list, movie_list):\n",
        "    input_str = str(len(movie_list)) + \" \" + str(len(cat_limit_list)) + \" \"\n",
        "\n",
        "    for i in cat_limit_list:\n",
        "      input_str += str(i) + \" \"\n",
        "\n",
        "    for i in movie_list:\n",
        "      input_str += str(i) + \" \"\n",
        "\n",
        "    return input_str.strip().replace('(', '').replace(')', '').replace(',', '')\n",
        "\n",
        "test = generate_tests(5, 2)\n",
        "parse_input(test[0], test[1])"
      ]
    },
    {
      "cell_type": "code",
      "execution_count": null,
      "metadata": {
        "colab": {
          "base_uri": "https://localhost:8080/"
        },
        "id": "bSHOJ5gnn8Fr",
        "outputId": "e3b9d6cb-79eb-4270-ee40-2e2721430e4c"
      },
      "outputs": [
        {
          "name": "stdout",
          "output_type": "stream",
          "text": [
            "([8, 5], [(16, 18, 1), (5, 9, 1), (10, 14, 2), (15, 18, 2), (3, 6, 2)])\n",
            "31 3 \n"
          ]
        }
      ],
      "source": [
        "import os\n",
        "import subprocess\n",
        "\n",
        "test = generate_tests(5,2)\n",
        "print(test)\n",
        "input_str = parse_input(test[0], test[1])\n",
        "\n",
        "proc = subprocess.run([\"./exhaustive_omp\"], input=input_str, text=True, capture_output=True)\n",
        "\n",
        "print(proc.stdout, proc.stderr)"
      ]
    },
    {
      "attachments": {},
      "cell_type": "markdown",
      "metadata": {
        "id": "7EsV9_XwuZbq"
      },
      "source": [
        "## Gera inputs de teste"
      ]
    },
    {
      "cell_type": "code",
      "execution_count": null,
      "metadata": {
        "id": "Jiq2WXk5ubk3"
      },
      "outputs": [],
      "source": [
        "test_list = []\n",
        "\n",
        "for cat_count in range(1, 20):\n",
        "  for movie_count in range(1, 31):\n",
        "    test_list.append(generate_tests(movie_count, cat_count))"
      ]
    },
    {
      "cell_type": "code",
      "execution_count": null,
      "metadata": {
        "colab": {
          "base_uri": "https://localhost:8080/"
        },
        "id": "SHD9AmacvCOS",
        "outputId": "7c541d60-3ead-4bff-db1b-307655fbb26e"
      },
      "outputs": [
        {
          "name": "stdout",
          "output_type": "stream",
          "text": [
            "570\n",
            "([1], [(3, 5, 1)])\n"
          ]
        }
      ],
      "source": [
        "print(len(test_list))\n",
        "print(test_list[0])"
      ]
    },
    {
      "attachments": {},
      "cell_type": "markdown",
      "metadata": {
        "id": "2JEdf8NGvv8N"
      },
      "source": [
        "## Benchmark OMP"
      ]
    },
    {
      "cell_type": "code",
      "execution_count": null,
      "metadata": {
        "id": "jRptfm68vUj_"
      },
      "outputs": [],
      "source": [
        "import subprocess\n",
        "import time\n",
        "\n",
        "def benchmark_input(input_obj) -> tuple[str, str, float, int, int]:\n",
        "    input_str = parse_input(input_obj[0], input_obj[1])\n",
        "    start = time.perf_counter()\n",
        "    proc = subprocess.run(\n",
        "        [\"./exhaustive_omp\"], input=input_str, text=True, capture_output=True\n",
        "        )\n",
        "    end = time.perf_counter()\n",
        "\n",
        "    return proc.stdout, proc.stderr, end - start, len(input_obj[0]), len(input_obj[1])"
      ]
    },
    {
      "cell_type": "code",
      "execution_count": null,
      "metadata": {
        "colab": {
          "base_uri": "https://localhost:8080/"
        },
        "id": "ygUBxZYKvukr",
        "outputId": "c4696f81-76be-4dcf-eb6a-c7cafba1dc69"
      },
      "outputs": [
        {
          "name": "stdout",
          "output_type": "stream",
          "text": [
            "50\n",
            "100\n",
            "150\n",
            "200\n",
            "250\n",
            "300\n",
            "350\n",
            "400\n",
            "450\n"
          ]
        }
      ],
      "source": [
        "omp_result = {}\n",
        "\n",
        "counter = 0\n",
        "for i in test_list:\n",
        "    if (len(i[1]) > 26): continue\n",
        "    counter += 1\n",
        "    if counter%50 == 0: print(counter)\n",
        "\n",
        "    test_output = benchmark_input(i)\n",
        "    key = str(test_output[-1]) + \" \" + str(test_output[-2])    \n",
        "              \n",
        "    omp_result[key] = test_output"
      ]
    },
    {
      "cell_type": "code",
      "execution_count": null,
      "metadata": {
        "colab": {
          "base_uri": "https://localhost:8080/"
        },
        "id": "huoImC7Vx1LV",
        "outputId": "98b6c33b-48d4-4382-a9ba-3b5b3eee5db5"
      },
      "outputs": [
        {
          "name": "stdout",
          "output_type": "stream",
          "text": [
            "('8388607 7', '', 2.639602013000058, 5, 26)\n"
          ]
        }
      ],
      "source": [
        "print(omp_result['26 5'])"
      ]
    },
    {
      "attachments": {},
      "cell_type": "markdown",
      "metadata": {
        "id": "Qts4L-Pl20gO"
      },
      "source": [
        "## Benchmark GPU"
      ]
    },
    {
      "cell_type": "code",
      "execution_count": null,
      "metadata": {
        "id": "4s28JBUg2zMI"
      },
      "outputs": [],
      "source": [
        "def benchmark_input_gpu(input_obj) -> tuple[str, str, float, int, int]:\n",
        "    input_str = parse_input(input_obj[0], input_obj[1])\n",
        "    start = time.perf_counter()\n",
        "    proc = subprocess.run(\n",
        "        [\"./main\"], input=input_str, text=True, capture_output=True\n",
        "        )\n",
        "    end = time.perf_counter()\n",
        "\n",
        "    return proc.stdout, proc.stderr, end - start, len(input_obj[0]), len(input_obj[1])"
      ]
    },
    {
      "attachments": {},
      "cell_type": "markdown",
      "metadata": {
        "id": "eboeiGbuDl0C"
      },
      "source": []
    },
    {
      "cell_type": "code",
      "execution_count": null,
      "metadata": {
        "colab": {
          "base_uri": "https://localhost:8080/"
        },
        "id": "-h_A7Bwp2-D_",
        "outputId": "865b7c98-9f16-489c-b4d2-028f61ec843e"
      },
      "outputs": [
        {
          "name": "stdout",
          "output_type": "stream",
          "text": [
            "50\n",
            "100\n",
            "150\n",
            "200\n",
            "250\n",
            "300\n",
            "350\n",
            "400\n",
            "450\n",
            "500\n",
            "550\n"
          ]
        }
      ],
      "source": [
        "gpu_result = {}\n",
        "\n",
        "counter = 0\n",
        "for i in test_list:\n",
        "    counter += 1\n",
        "    if counter%50 == 0: print(counter)\n",
        "\n",
        "    test_output = benchmark_input_gpu(i)\n",
        "    key = str(test_output[-1]) + \" \" + str(test_output[-2])    \n",
        "              \n",
        "    gpu_result[key] = test_output"
      ]
    },
    {
      "attachments": {},
      "cell_type": "markdown",
      "metadata": {
        "id": "XGLQSZmU4b_W"
      },
      "source": [
        "## Save benchmark files to json"
      ]
    },
    {
      "cell_type": "code",
      "execution_count": null,
      "metadata": {
        "id": "WBPLMCvq4eJz"
      },
      "outputs": [],
      "source": [
        "import json\n",
        "with open('result_omp.json', 'w') as fp:\n",
        "    json.dump(omp_result, fp)\n",
        "\n",
        "with open('result_gpu.json', 'w') as fp:\n",
        "    json.dump(gpu_result, fp)"
      ]
    }
  ],
  "metadata": {
    "accelerator": "GPU",
    "colab": {
      "gpuType": "T4",
      "provenance": []
    },
    "kernelspec": {
      "display_name": "Python 3",
      "name": "python3"
    },
    "language_info": {
      "name": "python"
    }
  },
  "nbformat": 4,
  "nbformat_minor": 0
}
